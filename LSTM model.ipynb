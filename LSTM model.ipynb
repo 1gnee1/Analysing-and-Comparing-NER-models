{
 "cells": [
  {
   "cell_type": "markdown",
   "metadata": {
    "collapsed": true,
    "deletable": true,
    "editable": true
   },
   "source": [
    "# LSTM for Named Entity Recognition"
   ]
  },
  {
   "cell_type": "code",
   "execution_count": 12,
   "metadata": {
    "collapsed": true,
    "deletable": true,
    "editable": true
   },
   "outputs": [],
   "source": [
    "import pandas as pd\n",
    "import numpy as np\n",
    "from sklearn.model_selection import train_test_split\n",
    "from sklearn.preprocessing import LabelEncoder\n",
    "import os"
   ]
  },
  {
   "cell_type": "code",
   "execution_count": 13,
   "metadata": {
    "collapsed": true,
    "deletable": true,
    "editable": true
   },
   "outputs": [],
   "source": [
    "import tensorflow as tf\n",
    "from gensim.models import KeyedVectors\n",
    "#%matplotlib inline"
   ]
  },
  {
   "cell_type": "markdown",
   "metadata": {
    "deletable": true,
    "editable": true
   },
   "source": [
    "## Load and preprocess data"
   ]
  },
  {
   "cell_type": "markdown",
   "metadata": {
    "deletable": true,
    "editable": true
   },
   "source": [
    "https://github.com/dice-group/FOX/tree/master/input/Wikiner"
   ]
  },
  {
   "cell_type": "code",
   "execution_count": 14,
   "metadata": {
    "collapsed": false,
    "deletable": true,
    "editable": true
   },
   "outputs": [
    {
     "name": "stdout",
     "output_type": "stream",
     "text": [
      "Reading the dataset.....\n",
      "The|DT|I-MISC Oxford|NNP|I-MISC Companion|NNP|I-MISC to|TO|I-MISC Philosophy|NNP|I-MISC says|VBZ|O ,|,|O \"|LQU|O there|EX|O is|VBZ|O no|DT|O single|JJ|O defining|VBG|O position|NN|O that|IN|O all|DT|O anarchists|NNS|O hold|VBP|O ,|,|O and|CC|O those|DT|O considered|VBN|O anarchists|NNS|O at|IN|O best|JJS|O share|NN|O a|DT|O certain|JJ|O family|NN|O resemblance|NN|O .|.|O \"|RQU|O\n",
      "\n"
     ]
    }
   ],
   "source": [
    "data_file = \"aij-wikiner-en-wp3\"\n",
    "\n",
    "# Load data\n",
    "print(\"Reading the dataset.....\")\n",
    "with open(data_file, \"r\", encoding=\"latin1\") as data_handle:\n",
    "    text = data_handle.readlines()\n",
    "\n",
    "print(text[1])"
   ]
  },
  {
   "cell_type": "code",
   "execution_count": 15,
   "metadata": {
    "collapsed": false,
    "deletable": true,
    "editable": true
   },
   "outputs": [
    {
     "name": "stdout",
     "output_type": "stream",
     "text": [
      "The|DT|I-MISC\n"
     ]
    }
   ],
   "source": [
    "text_flat = []\n",
    "for item in text:\n",
    "    text_flat.extend(item.split(\" \"))\n",
    "print(text_flat[1])"
   ]
  },
  {
   "cell_type": "code",
   "execution_count": 16,
   "metadata": {
    "collapsed": false,
    "deletable": true,
    "editable": true
   },
   "outputs": [
    {
     "name": "stdout",
     "output_type": "stream",
     "text": [
      "['The', 'DT', 'I-MISC']\n"
     ]
    }
   ],
   "source": [
    "text = []\n",
    "for item in text_flat:\n",
    "    text.append(item.split(\"|\"))\n",
    "print(text[1])"
   ]
  },
  {
   "cell_type": "code",
   "execution_count": 17,
   "metadata": {
    "collapsed": true,
    "deletable": true,
    "editable": true
   },
   "outputs": [],
   "source": [
    "data = pd.DataFrame(text[0:200000], columns=[\"Word\", \"POS\", \"NER\"])\n",
    "data.drop([\"POS\"], axis=1, inplace=True)\n",
    "del text, text_flat"
   ]
  },
  {
   "cell_type": "code",
   "execution_count": 18,
   "metadata": {
    "collapsed": false,
    "deletable": true,
    "editable": true
   },
   "outputs": [
    {
     "data": {
      "text/html": [
       "<div>\n",
       "<style scoped>\n",
       "    .dataframe tbody tr th:only-of-type {\n",
       "        vertical-align: middle;\n",
       "    }\n",
       "\n",
       "    .dataframe tbody tr th {\n",
       "        vertical-align: top;\n",
       "    }\n",
       "\n",
       "    .dataframe thead th {\n",
       "        text-align: right;\n",
       "    }\n",
       "</style>\n",
       "<table border=\"1\" class=\"dataframe\">\n",
       "  <thead>\n",
       "    <tr style=\"text-align: right;\">\n",
       "      <th></th>\n",
       "      <th>Word</th>\n",
       "      <th>NER</th>\n",
       "    </tr>\n",
       "  </thead>\n",
       "  <tbody>\n",
       "    <tr>\n",
       "      <th>0</th>\n",
       "      <td>\\n</td>\n",
       "      <td>None</td>\n",
       "    </tr>\n",
       "    <tr>\n",
       "      <th>1</th>\n",
       "      <td>The</td>\n",
       "      <td>I-MISC</td>\n",
       "    </tr>\n",
       "    <tr>\n",
       "      <th>2</th>\n",
       "      <td>Oxford</td>\n",
       "      <td>I-MISC</td>\n",
       "    </tr>\n",
       "    <tr>\n",
       "      <th>3</th>\n",
       "      <td>Companion</td>\n",
       "      <td>I-MISC</td>\n",
       "    </tr>\n",
       "    <tr>\n",
       "      <th>4</th>\n",
       "      <td>to</td>\n",
       "      <td>I-MISC</td>\n",
       "    </tr>\n",
       "    <tr>\n",
       "      <th>5</th>\n",
       "      <td>Philosophy</td>\n",
       "      <td>I-MISC</td>\n",
       "    </tr>\n",
       "    <tr>\n",
       "      <th>6</th>\n",
       "      <td>says</td>\n",
       "      <td>O</td>\n",
       "    </tr>\n",
       "    <tr>\n",
       "      <th>7</th>\n",
       "      <td>,</td>\n",
       "      <td>O</td>\n",
       "    </tr>\n",
       "    <tr>\n",
       "      <th>8</th>\n",
       "      <td>\"</td>\n",
       "      <td>O</td>\n",
       "    </tr>\n",
       "    <tr>\n",
       "      <th>9</th>\n",
       "      <td>there</td>\n",
       "      <td>O</td>\n",
       "    </tr>\n",
       "    <tr>\n",
       "      <th>10</th>\n",
       "      <td>is</td>\n",
       "      <td>O</td>\n",
       "    </tr>\n",
       "    <tr>\n",
       "      <th>11</th>\n",
       "      <td>no</td>\n",
       "      <td>O</td>\n",
       "    </tr>\n",
       "    <tr>\n",
       "      <th>12</th>\n",
       "      <td>single</td>\n",
       "      <td>O</td>\n",
       "    </tr>\n",
       "    <tr>\n",
       "      <th>13</th>\n",
       "      <td>defining</td>\n",
       "      <td>O</td>\n",
       "    </tr>\n",
       "    <tr>\n",
       "      <th>14</th>\n",
       "      <td>position</td>\n",
       "      <td>O</td>\n",
       "    </tr>\n",
       "    <tr>\n",
       "      <th>15</th>\n",
       "      <td>that</td>\n",
       "      <td>O</td>\n",
       "    </tr>\n",
       "    <tr>\n",
       "      <th>16</th>\n",
       "      <td>all</td>\n",
       "      <td>O</td>\n",
       "    </tr>\n",
       "    <tr>\n",
       "      <th>17</th>\n",
       "      <td>anarchists</td>\n",
       "      <td>O</td>\n",
       "    </tr>\n",
       "    <tr>\n",
       "      <th>18</th>\n",
       "      <td>hold</td>\n",
       "      <td>O</td>\n",
       "    </tr>\n",
       "    <tr>\n",
       "      <th>19</th>\n",
       "      <td>,</td>\n",
       "      <td>O</td>\n",
       "    </tr>\n",
       "    <tr>\n",
       "      <th>20</th>\n",
       "      <td>and</td>\n",
       "      <td>O</td>\n",
       "    </tr>\n",
       "    <tr>\n",
       "      <th>21</th>\n",
       "      <td>those</td>\n",
       "      <td>O</td>\n",
       "    </tr>\n",
       "    <tr>\n",
       "      <th>22</th>\n",
       "      <td>considered</td>\n",
       "      <td>O</td>\n",
       "    </tr>\n",
       "    <tr>\n",
       "      <th>23</th>\n",
       "      <td>anarchists</td>\n",
       "      <td>O</td>\n",
       "    </tr>\n",
       "    <tr>\n",
       "      <th>24</th>\n",
       "      <td>at</td>\n",
       "      <td>O</td>\n",
       "    </tr>\n",
       "    <tr>\n",
       "      <th>25</th>\n",
       "      <td>best</td>\n",
       "      <td>O</td>\n",
       "    </tr>\n",
       "    <tr>\n",
       "      <th>26</th>\n",
       "      <td>share</td>\n",
       "      <td>O</td>\n",
       "    </tr>\n",
       "    <tr>\n",
       "      <th>27</th>\n",
       "      <td>a</td>\n",
       "      <td>O</td>\n",
       "    </tr>\n",
       "    <tr>\n",
       "      <th>28</th>\n",
       "      <td>certain</td>\n",
       "      <td>O</td>\n",
       "    </tr>\n",
       "    <tr>\n",
       "      <th>29</th>\n",
       "      <td>family</td>\n",
       "      <td>O</td>\n",
       "    </tr>\n",
       "    <tr>\n",
       "      <th>30</th>\n",
       "      <td>resemblance</td>\n",
       "      <td>O</td>\n",
       "    </tr>\n",
       "    <tr>\n",
       "      <th>31</th>\n",
       "      <td>.</td>\n",
       "      <td>O</td>\n",
       "    </tr>\n",
       "    <tr>\n",
       "      <th>32</th>\n",
       "      <td>\"</td>\n",
       "      <td>O\\n</td>\n",
       "    </tr>\n",
       "    <tr>\n",
       "      <th>33</th>\n",
       "      <td>In</td>\n",
       "      <td>O</td>\n",
       "    </tr>\n",
       "    <tr>\n",
       "      <th>34</th>\n",
       "      <td>the</td>\n",
       "      <td>O</td>\n",
       "    </tr>\n",
       "    <tr>\n",
       "      <th>35</th>\n",
       "      <td>end</td>\n",
       "      <td>O</td>\n",
       "    </tr>\n",
       "    <tr>\n",
       "      <th>36</th>\n",
       "      <td>,</td>\n",
       "      <td>O</td>\n",
       "    </tr>\n",
       "    <tr>\n",
       "      <th>37</th>\n",
       "      <td>for</td>\n",
       "      <td>O</td>\n",
       "    </tr>\n",
       "    <tr>\n",
       "      <th>38</th>\n",
       "      <td>anarchist</td>\n",
       "      <td>O</td>\n",
       "    </tr>\n",
       "    <tr>\n",
       "      <th>39</th>\n",
       "      <td>historian</td>\n",
       "      <td>O</td>\n",
       "    </tr>\n",
       "    <tr>\n",
       "      <th>40</th>\n",
       "      <td>Daniel</td>\n",
       "      <td>I-PER</td>\n",
       "    </tr>\n",
       "    <tr>\n",
       "      <th>41</th>\n",
       "      <td>Guerin</td>\n",
       "      <td>I-PER</td>\n",
       "    </tr>\n",
       "    <tr>\n",
       "      <th>42</th>\n",
       "      <td>\"</td>\n",
       "      <td>O</td>\n",
       "    </tr>\n",
       "    <tr>\n",
       "      <th>43</th>\n",
       "      <td>Some</td>\n",
       "      <td>O</td>\n",
       "    </tr>\n",
       "    <tr>\n",
       "      <th>44</th>\n",
       "      <td>anarchists</td>\n",
       "      <td>O</td>\n",
       "    </tr>\n",
       "    <tr>\n",
       "      <th>45</th>\n",
       "      <td>are</td>\n",
       "      <td>O</td>\n",
       "    </tr>\n",
       "    <tr>\n",
       "      <th>46</th>\n",
       "      <td>more</td>\n",
       "      <td>O</td>\n",
       "    </tr>\n",
       "    <tr>\n",
       "      <th>47</th>\n",
       "      <td>individualistic</td>\n",
       "      <td>O</td>\n",
       "    </tr>\n",
       "    <tr>\n",
       "      <th>48</th>\n",
       "      <td>than</td>\n",
       "      <td>O</td>\n",
       "    </tr>\n",
       "    <tr>\n",
       "      <th>49</th>\n",
       "      <td>social</td>\n",
       "      <td>O</td>\n",
       "    </tr>\n",
       "  </tbody>\n",
       "</table>\n",
       "</div>"
      ],
      "text/plain": [
       "               Word     NER\n",
       "0                \\n    None\n",
       "1               The  I-MISC\n",
       "2            Oxford  I-MISC\n",
       "3         Companion  I-MISC\n",
       "4                to  I-MISC\n",
       "5        Philosophy  I-MISC\n",
       "6              says       O\n",
       "7                 ,       O\n",
       "8                 \"       O\n",
       "9             there       O\n",
       "10               is       O\n",
       "11               no       O\n",
       "12           single       O\n",
       "13         defining       O\n",
       "14         position       O\n",
       "15             that       O\n",
       "16              all       O\n",
       "17       anarchists       O\n",
       "18             hold       O\n",
       "19                ,       O\n",
       "20              and       O\n",
       "21            those       O\n",
       "22       considered       O\n",
       "23       anarchists       O\n",
       "24               at       O\n",
       "25             best       O\n",
       "26            share       O\n",
       "27                a       O\n",
       "28          certain       O\n",
       "29           family       O\n",
       "30      resemblance       O\n",
       "31                .       O\n",
       "32                \"     O\\n\n",
       "33               In       O\n",
       "34              the       O\n",
       "35              end       O\n",
       "36                ,       O\n",
       "37              for       O\n",
       "38        anarchist       O\n",
       "39        historian       O\n",
       "40           Daniel   I-PER\n",
       "41           Guerin   I-PER\n",
       "42                \"       O\n",
       "43             Some       O\n",
       "44       anarchists       O\n",
       "45              are       O\n",
       "46             more       O\n",
       "47  individualistic       O\n",
       "48             than       O\n",
       "49           social       O"
      ]
     },
     "execution_count": 18,
     "metadata": {},
     "output_type": "execute_result"
    }
   ],
   "source": [
    "data.head(50)"
   ]
  },
  {
   "cell_type": "code",
   "execution_count": 19,
   "metadata": {
    "collapsed": true,
    "deletable": true,
    "editable": true
   },
   "outputs": [],
   "source": [
    "# I get rid of BIO labels and instead use the 4 classes directly\n",
    "# This is because the data is awfully imbalanced and there\n",
    "# are barely any B-* classes\n",
    "classes_map = {\n",
    "    # Incorrect classes\n",
    "    \"B-ERS\": \"PERS\",\n",
    "    \"B-MSIC\": \"MISC\",\n",
    "    \"B-OEG\": \"ORG\",\n",
    "    \"B-ORF\": \"ORG\",\n",
    "    \"B-PERs\": \"PERS\",\n",
    "    \"B-PRG\": \"ORG\",\n",
    "    \"I-PRG\": \"ORG\",\n",
    "    \"IPERS\": \"PERS\",\n",
    "    \"\": \"O\",\n",
    "    \"o\": \"O\",\n",
    "    \"O\\n\": \"O\",\n",
    "    None: \"O\",\n",
    "    \"I-MISC\\n\": \"MISC\",\n",
    "    \"B-MIS0\": \"MISC\",\n",
    "    \"B-MIS1\": \"MISC\",\n",
    "    \"B-MIS2\": \"MISC\",\n",
    "    \"B-MIS3\": \"MISC\",\n",
    "    \"I-MIS0\": \"MISC\",\n",
    "    \"I-MIS1\": \"MISC\",\n",
    "    \"I-MIS2\": \"MISC\",\n",
    "    \"I-MIS3\": \"MISC\",\n",
    "    \"B-SPANISH\": \"O\",\n",
    "    \"I-SPANISH\": \"O\",\n",
    "    \"B-MIS\": \"MISC\",\n",
    "    \"I-MIS\": \"MISC\",\n",
    "    \"B-MIS-2\": \"MISC\",\n",
    "    \"B-MIS-1\": \"MISC\",\n",
    "    \"B-MIS1'\": \"MISC\",\n",
    "    \"I-MIS\": \"MISC\",\n",
    "    \"I-LOC\\n\": \"LOC\",\n",
    "    \"OO\": \"O\",\n",
    "    \"I--ORG\": \"ORG\",\n",
    "    \"I-ORG\\n\": \"ORG\",\n",
    "    \"B-MISS1\": \"MISC\",\n",
    "    \"IO\": \"O\",\n",
    "    \"B-ENGLISH\": \"O\",\n",
    "    \"I-PER\\n\": \"PERS\",\n",
    "    \"B-PER\": \"PERS\",\n",
    "    \"I-PER\": \"PERS\",\n",
    "    \n",
    "    # Correct classes\n",
    "    \"B-LOC\": \"LOC\",\n",
    "    \"O\": \"O\",\n",
    "    \"B-ORG\": \"ORG\",\n",
    "    \"I-ORG\": \"ORG\",\n",
    "    \"B-PERS\": \"PERS\",\n",
    "    \"I-PERS\": \"PERS\",\n",
    "    \"I-LOC\": \"LOC\",\n",
    "    \"I-MISC\": \"MISC\",\n",
    "    \"B-MISC\": \"MISC\",\n",
    "}\n",
    "\n",
    "data['NER'] = data['NER'].map(classes_map)\n"
   ]
  },
  {
   "cell_type": "markdown",
   "metadata": {
    "deletable": true,
    "editable": true
   },
   "source": [
    "## Plot a histogram of classes"
   ]
  },
  {
   "cell_type": "code",
   "execution_count": 20,
   "metadata": {
    "collapsed": false,
    "deletable": true,
    "editable": true
   },
   "outputs": [
    {
     "data": {
      "text/plain": [
       "<matplotlib.axes._subplots.AxesSubplot at 0x7f7ebbef2a20>"
      ]
     },
     "execution_count": 20,
     "metadata": {},
     "output_type": "execute_result"
    },
    {
     "data": {
      "image/png": "[encoded data removed]",
      "text/plain": [
       "<Figure size 432x288 with 1 Axes>"
      ]
     },
     "metadata": {},
     "output_type": "display_data"
    }
   ],
   "source": [
    "bins = data[\"NER\"].value_counts()\n",
    "total = data[\"NER\"].count()\n",
    "bins = bins.apply(lambda x: float(x)/total)\n",
    "\n",
    "# Histogram of the classes\n",
    "data[\"NER\"].value_counts().plot(kind=\"bar\")"
   ]
  },
  {
   "cell_type": "code",
   "execution_count": 21,
   "metadata": {
    "collapsed": false,
    "deletable": true,
    "editable": true
   },
   "outputs": [
    {
     "data": {
      "text/plain": [
       "<matplotlib.axes._subplots.AxesSubplot at 0x7f7ebe6e50b8>"
      ]
     },
     "execution_count": 21,
     "metadata": {},
     "output_type": "execute_result"
    },
    {
     "data": {
      "image/png": "[encoded data removed]",
      "text/plain": [
       "<Figure size 432x288 with 1 Axes>"
      ]
     },
     "metadata": {},
     "output_type": "display_data"
    }
   ],
   "source": [
    "data[\"NER\"].value_counts().drop(\"O\", axis=0).plot(kind='bar')"
   ]
  },
  {
   "cell_type": "markdown",
   "metadata": {
    "deletable": true,
    "editable": true
   },
   "source": [
    "## Load the word vectors"
   ]
  },
  {
   "cell_type": "markdown",
   "metadata": {
    "deletable": true,
    "editable": true
   },
   "source": [
    "https://nlp.stanford.edu/projects/glove/"
   ]
  },
  {
   "cell_type": "code",
   "execution_count": 22,
   "metadata": {
    "collapsed": true,
    "deletable": true,
    "editable": true
   },
   "outputs": [],
   "source": [
    "word_vecs = KeyedVectors.load_word2vec_format(\"glove.txt\")"
   ]
  },
  {
   "cell_type": "code",
   "execution_count": 23,
   "metadata": {
    "collapsed": true,
    "deletable": true,
    "editable": true
   },
   "outputs": [],
   "source": [
    "data[\"Word\"] = data[\"Word\"].apply(lambda word: np.array(word_vecs.word_vec(word)).astype(np.float16) if word in word_vecs else np.zeros((200)))"
   ]
  },
  {
   "cell_type": "code",
   "execution_count": 24,
   "metadata": {
    "collapsed": false,
    "deletable": true,
    "editable": true
   },
   "outputs": [
    {
     "data": {
      "text/plain": [
       "0    [0.0, 0.0, 0.0, 0.0, 0.0, 0.0, 0.0, 0.0, 0.0, ...\n",
       "1    [0.0, 0.0, 0.0, 0.0, 0.0, 0.0, 0.0, 0.0, 0.0, ...\n",
       "2    [0.0, 0.0, 0.0, 0.0, 0.0, 0.0, 0.0, 0.0, 0.0, ...\n",
       "3    [0.0, 0.0, 0.0, 0.0, 0.0, 0.0, 0.0, 0.0, 0.0, ...\n",
       "4    [0.6177, 0.2104, 0.527, 0.2047, 0.257, -0.2173...\n",
       "5    [0.0, 0.0, 0.0, 0.0, 0.0, 0.0, 0.0, 0.0, 0.0, ...\n",
       "6    [0.1035, 0.10205, 0.0892, 0.1975, -0.5728, -0....\n",
       "7    [0.3926, -0.08417, -0.6074, 0.323, -0.3591, 0....\n",
       "8    [0.2751, 0.3997, 0.06854, -0.00705, -0.2837, 0...\n",
       "9    [-0.04156, 0.2177, -0.09796, 0.1228, -0.1597, ...\n",
       "Name: Word, dtype: object"
      ]
     },
     "execution_count": 24,
     "metadata": {},
     "output_type": "execute_result"
    }
   ],
   "source": [
    "data[\"Word\"].head(10)"
   ]
  },
  {
   "cell_type": "markdown",
   "metadata": {
    "deletable": true,
    "editable": true
   },
   "source": [
    "## Class encoding"
   ]
  },
  {
   "cell_type": "code",
   "execution_count": 25,
   "metadata": {
    "collapsed": false,
    "deletable": true,
    "editable": true
   },
   "outputs": [
    {
     "name": "stderr",
     "output_type": "stream",
     "text": [
      "/usr/local/lib/python3.6/dist-packages/sklearn/preprocessing/label.py:128: DataConversionWarning: A column-vector y was passed when a 1d array was expected. Please change the shape of y to (n_samples, ), for example using ravel().\n",
      "  y = column_or_1d(y, warn=True)\n"
     ]
    }
   ],
   "source": [
    "le = LabelEncoder()\n",
    "le.fit(data[\"NER\"].unique())\n",
    "\n",
    "\n",
    "data[\"NER\"] = data[\"NER\"].apply(lambda x: le.transform([[x]])[0])"
   ]
  },
  {
   "cell_type": "markdown",
   "metadata": {
    "deletable": true,
    "editable": true
   },
   "source": [
    "## Now we need to turn data into sequences"
   ]
  },
  {
   "cell_type": "code",
   "execution_count": 26,
   "metadata": {
    "collapsed": false,
    "deletable": true,
    "editable": true,
    "scrolled": true
   },
   "outputs": [
    {
     "data": {
      "text/plain": [
       "(array([[ 0.        ,  0.        ,  0.        , ...,  0.        ,\n",
       "          0.        ,  0.        ],\n",
       "        [ 0.        ,  0.        ,  0.        , ...,  0.        ,\n",
       "          0.        ,  0.        ],\n",
       "        [ 0.        ,  0.        ,  0.        , ...,  0.        ,\n",
       "          0.        ,  0.        ],\n",
       "        ...,\n",
       "        [ 0.39257812, -0.08416748, -0.60742188, ...,  0.09387207,\n",
       "         -0.58496094,  0.19543457],\n",
       "        [ 0.27514648,  0.3996582 ,  0.06854248, ..., -0.2565918 ,\n",
       "         -0.19763184,  0.32202148],\n",
       "        [-0.04156494,  0.21765137, -0.09796143, ...,  0.44311523,\n",
       "          0.08898926, -0.01033783]]), array([2, 1, 1, 1, 1, 1, 2, 2, 2, 2]))"
      ]
     },
     "execution_count": 26,
     "metadata": {},
     "output_type": "execute_result"
    }
   ],
   "source": [
    "def window_stack(X, Y, stride=1, time_steps=3, output_mode=0):\n",
    "    \"\"\"Stacks elements in a window and resizes array to be array of\n",
    "       sequences.\"\"\"\n",
    "\n",
    "    # Output_mode defines if it will return sequence of Y or a\n",
    "    # single Y value corresponding to a sequence of X\n",
    "    # 0 => Single, 1 => Sequence\n",
    "\n",
    "    if(len(Y) == 0):\n",
    "        test = True\n",
    "    else:\n",
    "        test = False\n",
    "\n",
    "    X2 = X[np.arange(0, X.shape[0]-time_steps+1, stride)[:,None] + np.arange(time_steps)]\n",
    "    \n",
    "    if(not test):\n",
    "        Y2 = Y[np.arange(0, Y.shape[0]-time_steps+1, stride)[:,None] + np.arange(time_steps)]\n",
    "        return (X2, Y2)\n",
    "\n",
    "    return X2\n",
    "\n",
    "SEQ_LENGTH = 10\n",
    "\n",
    "X = data[\"Word\"]\n",
    "Y = data[\"NER\"]\n",
    "\n",
    "X = np.array([np.array(item) for item in X.values])\n",
    "Y = np.array([np.array(item) for item in Y.values])\n",
    "\n",
    "# Turn the data into sequences\n",
    "X, Y = window_stack(X, Y, time_steps=SEQ_LENGTH, output_mode=1, stride=SEQ_LENGTH)\n",
    "X[0], Y[0]"
   ]
  },
  {
   "cell_type": "code",
   "execution_count": 27,
   "metadata": {
    "collapsed": false,
    "deletable": true,
    "editable": true
   },
   "outputs": [
    {
     "data": {
      "text/plain": [
       "((10, 200), (10,))"
      ]
     },
     "execution_count": 27,
     "metadata": {},
     "output_type": "execute_result"
    }
   ],
   "source": [
    "X[0].shape, Y[0].shape"
   ]
  },
  {
   "cell_type": "markdown",
   "metadata": {
    "deletable": true,
    "editable": true
   },
   "source": [
    "## Train test split"
   ]
  },
  {
   "cell_type": "code",
   "execution_count": 28,
   "metadata": {
    "collapsed": true,
    "deletable": true,
    "editable": true
   },
   "outputs": [],
   "source": [
    "X_Train, X_Test, Y_Train, Y_Test = train_test_split(X, Y, test_size=0.4)\n",
    "X_Train, X_Val, Y_Train, Y_Val = train_test_split(X_Train, Y_Train, test_size=0.3)"
   ]
  },
  {
   "cell_type": "code",
   "execution_count": 29,
   "metadata": {
    "collapsed": false,
    "deletable": true,
    "editable": true,
    "scrolled": true
   },
   "outputs": [
    {
     "data": {
      "text/plain": [
       "(array([[ 0.14929199,  0.27880859,  0.08996582, ..., -0.44824219,\n",
       "          0.31591797, -0.49365234],\n",
       "        [ 0.17028809,  0.06768799, -0.10314941, ...,  0.46118164,\n",
       "          0.62109375,  0.23791504],\n",
       "        [-0.05422974,  0.56787109,  0.17700195, ..., -0.04641724,\n",
       "          0.33032227,  0.1920166 ],\n",
       "        ...,\n",
       "        [ 0.        ,  0.        ,  0.        , ...,  0.        ,\n",
       "          0.        ,  0.        ],\n",
       "        [ 0.        ,  0.        ,  0.        , ...,  0.        ,\n",
       "          0.        ,  0.        ],\n",
       "        [ 0.31176758, -0.04629517, -0.12817383, ..., -0.74951172,\n",
       "         -0.51171875,  0.20959473]]), array([2, 2, 2, 2, 2, 2, 0, 0, 0, 2]))"
      ]
     },
     "execution_count": 29,
     "metadata": {},
     "output_type": "execute_result"
    }
   ],
   "source": [
    "X_Train[0], Y_Train[0]"
   ]
  },
  {
   "cell_type": "code",
   "execution_count": 30,
   "metadata": {
    "collapsed": false,
    "deletable": true,
    "editable": true
   },
   "outputs": [
    {
     "name": "stdout",
     "output_type": "stream",
     "text": [
      "Training set shapes: (8400, 10, 200) (8400, 10)\n",
      "Validation set shapes: (3600, 10, 200) (3600, 10)\n",
      "Test set shapes: (8000, 10, 200) (8000, 10)\n"
     ]
    }
   ],
   "source": [
    "print(\"Training set shapes: {} {}\".format(X_Train.shape, Y_Train.shape))\n",
    "print(\"Validation set shapes: {} {}\".format(X_Val.shape, Y_Val.shape))\n",
    "print(\"Test set shapes: {} {}\".format(X_Test.shape, Y_Test.shape))"
   ]
  },
  {
   "cell_type": "markdown",
   "metadata": {
    "deletable": true,
    "editable": true
   },
   "source": [
    "## Change dtype to float32"
   ]
  },
  {
   "cell_type": "code",
   "execution_count": 31,
   "metadata": {
    "collapsed": true,
    "deletable": true,
    "editable": true
   },
   "outputs": [],
   "source": [
    "X_Train = X_Train.astype(np.float32)\n",
    "X_Test = X_Test.astype(np.float32)\n",
    "X_Val = X_Val.astype(np.float32)"
   ]
  },
  {
   "cell_type": "markdown",
   "metadata": {
    "deletable": true,
    "editable": true
   },
   "source": [
    "## Create iterators"
   ]
  },
  {
   "cell_type": "code",
   "execution_count": 66,
   "metadata": {
    "collapsed": true,
    "deletable": true,
    "editable": true
   },
   "outputs": [],
   "source": [
    "train = tf.data.Dataset.zip((tf.data.Dataset.from_tensor_slices(X_Train), tf.data.Dataset.from_tensor_slices(Y_Train)))\n",
    "test = tf.data.Dataset.zip((tf.data.Dataset.from_tensor_slices(X_Test), tf.data.Dataset.from_tensor_slices(Y_Test)))\n",
    "val = tf.data.Dataset.zip((tf.data.Dataset.from_tensor_slices(X_Val), tf.data.Dataset.from_tensor_slices(Y_Val)))\n",
    "\n",
    "train = train.shuffle(buffer_size=1024).batch(64).prefetch(2)\n",
    "test = test.shuffle(buffer_size=1024).batch(64).prefetch(2)\n",
    "val = val.shuffle(buffer_size=1024).batch(64).prefetch(2)\n",
    "\n",
    "with tf.device(\"/cpu:0\"), tf.name_scope(\"data\"):\n",
    "    iterator = tf.data.Iterator.from_structure(train.output_types,\n",
    "                                           train.output_shapes)\n",
    "    train_iterator = iterator.make_initializer(train)\n",
    "    test_iterator = iterator.make_initializer(test)\n",
    "    val_iterator = iterator.make_initializer(val)\n",
    "    \n",
    "    sequence, labels = iterator.get_next()"
   ]
  },
  {
   "cell_type": "markdown",
   "metadata": {
    "deletable": true,
    "editable": true
   },
   "source": [
    "## Define the network"
   ]
  },
  {
   "cell_type": "code",
   "execution_count": 67,
   "metadata": {
    "collapsed": true,
    "deletable": true,
    "editable": true
   },
   "outputs": [],
   "source": [
    "with tf.name_scope(\"LSTM\"):\n",
    "    lstm_cell_forward = tf.nn.rnn_cell.LSTMCell(128, initializer=tf.glorot_uniform_initializer())\n",
    "    lstm_cell_forward = tf.nn.rnn_cell.DropoutWrapper(lstm_cell_forward, input_keep_prob=0.2, output_keep_prob=0.2, state_keep_prob=0.2)\n",
    "    \n",
    "    lstm_cell_backward = tf.nn.rnn_cell.LSTMCell(128, initializer=tf.glorot_uniform_initializer())\n",
    "    lstm_cell_backward = tf.nn.rnn_cell.DropoutWrapper(lstm_cell_backward, input_keep_prob=0.2, output_keep_prob=0.2, state_keep_prob=0.2)\n",
    "    \n",
    "    (forward_seq, backward_seq), _ = tf.nn.bidirectional_dynamic_rnn(\n",
    "        cell_fw = lstm_cell_forward,\n",
    "        cell_bw = lstm_cell_backward,\n",
    "        inputs=sequence,\n",
    "        dtype=tf.float32\n",
    "    )\n",
    "    output = tf.concat([forward_seq, backward_seq], axis=-1)"
   ]
  },
  {
   "cell_type": "code",
   "execution_count": 68,
   "metadata": {
    "collapsed": true,
    "deletable": true,
    "editable": true
   },
   "outputs": [],
   "source": [
    "classes = len(data[\"NER\"].unique())\n",
    "with tf.name_scope(\"Projection\"):\n",
    "        W = tf.get_variable(name=\"W\",\n",
    "                            shape=[256, classes],\n",
    "                            initializer=tf.glorot_uniform_initializer(),\n",
    "                            dtype=tf.float32)\n",
    "\n",
    "        b = tf.get_variable(name=\"b\",\n",
    "                            shape=[classes],\n",
    "                            initializer=tf.zeros_initializer(),\n",
    "                            dtype=tf.float32)\n",
    "        scores = tf.tensordot(output, W, 1) + b"
   ]
  },
  {
   "cell_type": "code",
   "execution_count": 69,
   "metadata": {
    "collapsed": true,
    "deletable": true,
    "editable": true
   },
   "outputs": [],
   "source": [
    "with tf.name_scope(\"CRF\"):\n",
    "    sequence_lengths = SEQ_LENGTH * tf.ones((tf.shape(sequence)[0]), dtype=tf.int32)\n",
    "    log_likelihood, transition_params = tf.contrib.crf.crf_log_likelihood(\n",
    "        scores, labels, sequence_lengths)\n",
    "    viterbi_sequence, viterbi_score = tf.contrib.crf.crf_decode(\n",
    "        scores, transition_params, sequence_lengths)\n",
    "\n",
    "    loss = tf.reduce_mean(-log_likelihood)"
   ]
  },
  {
   "cell_type": "code",
   "execution_count": 70,
   "metadata": {
    "collapsed": false,
    "deletable": true,
    "editable": true
   },
   "outputs": [
    {
     "name": "stderr",
     "output_type": "stream",
     "text": [
      "/usr/local/lib/python3.6/dist-packages/tensorflow/python/ops/gradients_impl.py:100: UserWarning: Converting sparse IndexedSlices to a dense Tensor of unknown shape. This may consume a large amount of memory.\n",
      "  \"Converting sparse IndexedSlices to a dense Tensor of unknown shape. \"\n"
     ]
    }
   ],
   "source": [
    "with tf.name_scope(\"Optimizer\"):\n",
    "    adam = tf.train.AdamOptimizer(learning_rate=0.001)\n",
    "    optimizer = adam.minimize(loss)"
   ]
  },
  {
   "cell_type": "code",
   "execution_count": 71,
   "metadata": {
    "collapsed": true,
    "deletable": true,
    "editable": true
   },
   "outputs": [],
   "source": [
    "def liveTest(text):\n",
    "    text_tokens = text.split(\" \")\n",
    "    text_vectors = []\n",
    "    for word in text_tokens:\n",
    "        text_vectors.append(np.array(word_vecs.word_vec(word)).astype(np.float16) if word in word_vecs else np.zeros((200)))\n",
    "    if(len(text_vectors) < 10):\n",
    "        for i in range(10 - len(text_vectors)):\n",
    "            text_vectors.append(np.zeros((200)))\n",
    "    text_vectors = np.array([text_vectors])\n",
    "    live = tf.data.Dataset.zip((tf.data.Dataset.from_tensor_slices(text_vectors.astype(np.float32)), tf.data.Dataset.from_tensor_slices(np.zeros((1, 10)).astype(np.int64))))\n",
    "    live = live.batch(1).prefetch(1)\n",
    "    with tf.device(\"/cpu:0\"), tf.name_scope(\"data\"):\n",
    "        live_iterator = iterator.make_initializer(live)\n",
    "    sess.run(live_iterator)\n",
    "    viterbi = sess.run(viterbi_sequence)[0, 0:len(text_tokens)]\n",
    "    viterbi_decoded = []\n",
    "    for tag, token in zip(viterbi, text_tokens):\n",
    "        viterbi_decoded.append(token + \"   =>   \" + le.inverse_transform(tag))\n",
    "    return viterbi_decoded"
   ]
  },
  {
   "cell_type": "code",
   "execution_count": 72,
   "metadata": {
    "collapsed": false,
    "deletable": true,
    "editable": true
   },
   "outputs": [
    {
     "name": "stdout",
     "output_type": "stream",
     "text": [
      "Epoch 0: Loss 5.419626235961914 \n",
      "['My   =>   O', 'name   =>   O', 'is   =>   O', 'John   =>   O', 'Doe   =>   O']\n",
      "Epoch 1: Loss 4.066124439239502 \n",
      "['My   =>   PERS', 'name   =>   O', 'is   =>   O', 'John   =>   MISC', 'Doe   =>   MISC']\n",
      "Epoch 2: Loss 3.676591396331787 \n",
      "['My   =>   O', 'name   =>   O', 'is   =>   O', 'John   =>   MISC', 'Doe   =>   MISC']\n",
      "Epoch 3: Loss 3.4844770431518555 \n",
      "['My   =>   O', 'name   =>   O', 'is   =>   O', 'John   =>   O', 'Doe   =>   MISC']\n",
      "Epoch 4: Loss 3.3027689456939697 \n",
      "['My   =>   PERS', 'name   =>   O', 'is   =>   O', 'John   =>   MISC', 'Doe   =>   MISC']\n",
      "Epoch 5: Loss 3.1602630615234375 \n",
      "['My   =>   O', 'name   =>   O', 'is   =>   O', 'John   =>   MISC', 'Doe   =>   MISC']\n",
      "Epoch 6: Loss 3.0605509281158447 \n",
      "['My   =>   PERS', 'name   =>   O', 'is   =>   O', 'John   =>   O', 'Doe   =>   O']\n",
      "Epoch 7: Loss 2.987633466720581 \n",
      "['My   =>   PERS', 'name   =>   O', 'is   =>   O', 'John   =>   MISC', 'Doe   =>   MISC']\n",
      "Epoch 8: Loss 2.9062952995300293 \n",
      "['My   =>   LOC', 'name   =>   O', 'is   =>   O', 'John   =>   MISC', 'Doe   =>   MISC']\n",
      "Epoch 9: Loss 2.856961488723755 \n",
      "['My   =>   O', 'name   =>   O', 'is   =>   O', 'John   =>   O', 'Doe   =>   MISC']\n",
      "Epoch 10: Loss 2.776047468185425 \n",
      "['My   =>   O', 'name   =>   O', 'is   =>   O', 'John   =>   MISC', 'Doe   =>   MISC']\n",
      "Epoch 11: Loss 2.739014148712158 \n",
      "['My   =>   O', 'name   =>   O', 'is   =>   O', 'John   =>   MISC', 'Doe   =>   MISC']\n",
      "Epoch 12: Loss 2.7033579349517822 \n",
      "['My   =>   O', 'name   =>   O', 'is   =>   O', 'John   =>   MISC', 'Doe   =>   MISC']\n",
      "Epoch 13: Loss 2.6624953746795654 \n",
      "['My   =>   O', 'name   =>   O', 'is   =>   O', 'John   =>   MISC', 'Doe   =>   MISC']\n",
      "Epoch 14: Loss 2.628355026245117 \n",
      "['My   =>   PERS', 'name   =>   O', 'is   =>   O', 'John   =>   MISC', 'Doe   =>   MISC']\n",
      "Epoch 15: Loss 2.612020492553711 \n",
      "['My   =>   LOC', 'name   =>   O', 'is   =>   O', 'John   =>   MISC', 'Doe   =>   MISC']\n",
      "Epoch 16: Loss 2.589578628540039 \n",
      "['My   =>   PERS', 'name   =>   O', 'is   =>   O', 'John   =>   MISC', 'Doe   =>   MISC']\n",
      "Epoch 17: Loss 2.5720913410186768 \n",
      "['My   =>   LOC', 'name   =>   O', 'is   =>   O', 'John   =>   MISC', 'Doe   =>   MISC']\n",
      "Epoch 18: Loss 2.5433340072631836 \n",
      "['My   =>   O', 'name   =>   O', 'is   =>   O', 'John   =>   MISC', 'Doe   =>   MISC']\n",
      "Epoch 19: Loss 2.523158073425293 \n",
      "['My   =>   PERS', 'name   =>   O', 'is   =>   O', 'John   =>   MISC', 'Doe   =>   MISC']\n",
      "Epoch 20: Loss 2.4998793601989746 \n",
      "['My   =>   O', 'name   =>   O', 'is   =>   O', 'John   =>   MISC', 'Doe   =>   MISC']\n",
      "Epoch 21: Loss 2.4787933826446533 \n",
      "['My   =>   PERS', 'name   =>   O', 'is   =>   O', 'John   =>   MISC', 'Doe   =>   MISC']\n",
      "Epoch 22: Loss 2.479783058166504 \n",
      "['My   =>   PERS', 'name   =>   O', 'is   =>   O', 'John   =>   MISC', 'Doe   =>   MISC']\n",
      "Epoch 23: Loss 2.458897352218628 \n",
      "['My   =>   PERS', 'name   =>   O', 'is   =>   O', 'John   =>   MISC', 'Doe   =>   MISC']\n",
      "Epoch 24: Loss 2.4537885189056396 \n",
      "['My   =>   O', 'name   =>   O', 'is   =>   O', 'John   =>   MISC', 'Doe   =>   MISC']\n",
      "Epoch 25: Loss 2.443725347518921 \n",
      "['My   =>   PERS', 'name   =>   O', 'is   =>   O', 'John   =>   MISC', 'Doe   =>   MISC']\n",
      "Epoch 26: Loss 2.4405806064605713 \n",
      "['My   =>   O', 'name   =>   O', 'is   =>   O', 'John   =>   MISC', 'Doe   =>   MISC']\n",
      "Epoch 27: Loss 2.424888849258423 \n",
      "['My   =>   PERS', 'name   =>   O', 'is   =>   O', 'John   =>   MISC', 'Doe   =>   MISC']\n",
      "Epoch 28: Loss 2.431793212890625 \n",
      "['My   =>   O', 'name   =>   O', 'is   =>   O', 'John   =>   ORG', 'Doe   =>   ORG']\n",
      "Epoch 29: Loss 2.4076011180877686 \n",
      "['My   =>   O', 'name   =>   O', 'is   =>   O', 'John   =>   MISC', 'Doe   =>   MISC']\n",
      "Epoch 30: Loss 2.396761417388916 \n",
      "['My   =>   O', 'name   =>   O', 'is   =>   O', 'John   =>   MISC', 'Doe   =>   MISC']\n",
      "Epoch 31: Loss 2.396003246307373 \n",
      "['My   =>   O', 'name   =>   O', 'is   =>   O', 'John   =>   MISC', 'Doe   =>   MISC']\n",
      "Epoch 32: Loss 2.3952128887176514 \n",
      "['My   =>   PERS', 'name   =>   O', 'is   =>   O', 'John   =>   MISC', 'Doe   =>   MISC']\n",
      "Epoch 33: Loss 2.3795359134674072 \n",
      "['My   =>   PERS', 'name   =>   O', 'is   =>   O', 'John   =>   MISC', 'Doe   =>   MISC']\n",
      "Epoch 34: Loss 2.3784656524658203 \n",
      "['My   =>   PERS', 'name   =>   O', 'is   =>   O', 'John   =>   O', 'Doe   =>   MISC']\n",
      "Epoch 35: Loss 2.3756167888641357 \n",
      "['My   =>   PERS', 'name   =>   O', 'is   =>   O', 'John   =>   MISC', 'Doe   =>   MISC']\n",
      "Epoch 36: Loss 2.3506081104278564 \n",
      "['My   =>   O', 'name   =>   O', 'is   =>   O', 'John   =>   MISC', 'Doe   =>   MISC']\n",
      "Epoch 37: Loss 2.3647890090942383 \n",
      "['My   =>   PERS', 'name   =>   O', 'is   =>   O', 'John   =>   MISC', 'Doe   =>   MISC']\n",
      "Epoch 38: Loss 2.3426101207733154 \n",
      "['My   =>   O', 'name   =>   O', 'is   =>   O', 'John   =>   MISC', 'Doe   =>   MISC']\n",
      "Epoch 39: Loss 2.351860761642456 \n",
      "['My   =>   O', 'name   =>   O', 'is   =>   O', 'John   =>   MISC', 'Doe   =>   MISC']\n",
      "Epoch 40: Loss 2.351959228515625 \n",
      "['My   =>   PERS', 'name   =>   PERS', 'is   =>   O', 'John   =>   MISC', 'Doe   =>   MISC']\n",
      "Epoch 41: Loss 2.3434898853302 \n",
      "['My   =>   LOC', 'name   =>   O', 'is   =>   O', 'John   =>   MISC', 'Doe   =>   MISC']\n",
      "Epoch 42: Loss 2.3523194789886475 \n",
      "['My   =>   PERS', 'name   =>   O', 'is   =>   O', 'John   =>   MISC', 'Doe   =>   MISC']\n",
      "Epoch 43: Loss 2.3379104137420654 \n",
      "['My   =>   O', 'name   =>   O', 'is   =>   O', 'John   =>   MISC', 'Doe   =>   MISC']\n",
      "Epoch 44: Loss 2.330111503601074 \n",
      "['My   =>   O', 'name   =>   O', 'is   =>   O', 'John   =>   PERS', 'Doe   =>   PERS']\n",
      "Epoch 45: Loss 2.342698335647583 \n",
      "['My   =>   O', 'name   =>   O', 'is   =>   O', 'John   =>   MISC', 'Doe   =>   MISC']\n",
      "Epoch 46: Loss 2.3298656940460205 \n",
      "['My   =>   O', 'name   =>   O', 'is   =>   O', 'John   =>   MISC', 'Doe   =>   MISC']\n",
      "Epoch 47: Loss 2.311469078063965 \n",
      "['My   =>   LOC', 'name   =>   O', 'is   =>   O', 'John   =>   MISC', 'Doe   =>   MISC']\n",
      "Epoch 48: Loss 2.3108718395233154 \n",
      "['My   =>   PERS', 'name   =>   O', 'is   =>   O', 'John   =>   MISC', 'Doe   =>   MISC']\n",
      "Epoch 49: Loss 2.3188564777374268 \n",
      "['My   =>   O', 'name   =>   O', 'is   =>   O', 'John   =>   PERS', 'Doe   =>   PERS']\n"
     ]
    }
   ],
   "source": [
    "saver = tf.train.Saver()\n",
    "with tf.Session() as sess:\n",
    "    sess.run(tf.global_variables_initializer())\n",
    "    for i in range(50):\n",
    "        sess.run(train_iterator)\n",
    "        try:\n",
    "            total_loss = []\n",
    "            while True:\n",
    "                _, l = sess.run([optimizer, loss])\n",
    "                total_loss.append(l)\n",
    "        except tf.errors.OutOfRangeError as e:\n",
    "            pass\n",
    "\n",
    "        # Calculate epoch loss\n",
    "        total_loss = np.mean(total_loss)\n",
    "        print(\"Epoch {}: Loss {} \".format(i, total_loss))\n",
    "        print(liveTest(\"My name is John Doe\"))\n",
    "        save_path = saver.save(sess, \"./model.ckpt\")"
   ]
  }
 ],
 "metadata": {
  "kernelspec": {
   "display_name": "Python 3",
   "language": "python",
   "name": "python3"
  },
  "language_info": {
   "codemirror_mode": {
    "name": "ipython",
    "version": 3
   },
   "file_extension": ".py",
   "mimetype": "text/x-python",
   "name": "python",
   "nbconvert_exporter": "python",
   "pygments_lexer": "ipython3",
   "version": "3.5.5"
  }
 },
 "nbformat": 4,
 "nbformat_minor": 2
}
